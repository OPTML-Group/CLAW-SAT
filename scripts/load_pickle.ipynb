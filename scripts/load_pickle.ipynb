{
 "cells": [
  {
   "cell_type": "code",
   "execution_count": 1,
   "metadata": {},
   "outputs": [],
   "source": [
    "import pickle"
   ]
  },
  {
   "cell_type": "code",
   "execution_count": 2,
   "metadata": {},
   "outputs": [],
   "source": [
    "data= pickle.load( open( 'javascript_augmented.pickle', \"rb\" ) )"
   ]
  },
  {
   "cell_type": "code",
   "execution_count": 6,
   "metadata": {},
   "outputs": [],
   "source": [
    "a=len(data)"
   ]
  },
  {
   "cell_type": "code",
   "execution_count": 7,
   "metadata": {},
   "outputs": [
    {
     "name": "stdout",
     "output_type": "stream",
     "text": [
      "1843099\n"
     ]
    }
   ],
   "source": [
    "print(a)"
   ]
  },
  {
   "cell_type": "code",
   "execution_count": 8,
   "metadata": {},
   "outputs": [
    {
     "name": "stdout",
     "output_type": "stream",
     "text": [
      "{'function x(grammar, replacementScope) {\\n  grammar.name = \"JSON with comments\";\\n  grammar.scopeName = `source${replacementScope}`;\\n  var fixScopeNames = function(rule) {\\n    if (typeof rule.name === \"string\") {\\n      rule.name = rule.name.replace(/\\\\.json/g, replacementScope);\\n    }\\n    if (typeof rule.contentName === \"string\") {\\n      rule.contentName = rule.contentName.replace(/\\\\.json/g, replacementScope);\\n    }\\n    for (var property in rule) {\\n      var value = rule[property];\\n      if (typeof value === \"object\") {\\n        fixScopeNames(value);\\n      }\\n    }\\n  };\\n  var repository = grammar.repository;\\n  for (var key in repository) {\\n    fixScopeNames(repository[key]);\\n  }\\n}', 'function x(grammar, flyFire) {\\n    var fixScopeNames, repository, key;\\n    for (key in grammar.name = \"JSON with comments\", grammar.scopeName = \"source\" + flyFire, \\n    fixScopeNames = function(rule) {\\n        var property, value;\\n        for (property in \"string\" == typeof rule.name && (rule.name = rule.name.replace(/\\\\.json/g, flyFire)), \\n        \"string\" == typeof rule.contentName && (rule.contentName = rule.contentName.replace(/\\\\.json/g, flyFire)), \\n        rule) {\\n            \"object\" == typeof (value = rule[property]) && fixScopeNames(value);\\n        }\\n    }, repository = grammar.repository) {\\n        fixScopeNames(repository[key]);\\n    }\\n}', \"function x(grammar, replacementScope) {\\n\\tgrammar.name = 'JSON with comments';\\n\\tgrammar.scopeName = `source${replacementScope}`;\\n\\n\\tvar fixScopeNames = function(rule) {\\n\\t\\tif (typeof rule.name === 'string') {\\n\\t\\t\\trule.name = rule.name.replace(/\\\\.json/g, replacementScope);\\n\\t\\t}\\n\\t\\tif (typeof rule.contentName === 'string') {\\n\\t\\t\\trule.contentName = rule.contentName.replace(/\\\\.json/g, replacementScope);\\n\\t\\t}\\n\\t\\tfor (var property in rule) {\\n\\t\\t\\tvar value = rule[property];\\n\\t\\t\\tif (typeof value === 'object') {\\n\\t\\t\\t\\tfixScopeNames(value);\\n\\t\\t\\t}\\n\\t\\t}\\n\\t};\\n\\n\\tvar repository = grammar.repository;\\n\\tfor (var key in repository) {\\n\\t\\tfixScopeNames(repository[key]);\\n\\t}\\n}\", \"function x(grammar, captured) {\\n  grammar.name = 'JSON with comments';\\n  grammar.scopeName = `source${captured}`;\\n\\n  var fixScopeNames = function (rule) {\\n    if (typeof rule.name === 'string') {\\n      rule.name = rule.name.replace(/\\\\.json/g, captured);\\n    }\\n\\n    if (typeof rule.contentName === 'string') {\\n      rule.contentName = rule.contentName.replace(/\\\\.json/g, captured);\\n    }\\n\\n    for (var property in rule) {\\n      var value = rule[property];\\n\\n      if (typeof value === 'object') {\\n        fixScopeNames(value);\\n      }\\n    }\\n  };\\n\\n  var repository = grammar.repository;\\n\\n  for (var key in repository) {\\n    fixScopeNames(repository[key]);\\n  }\\n}\", 'function x(grammar,replacementScope){var fixScopeNames,repository,key;for(key in grammar.name=\"JSON with comments\",grammar.scopeName=\"source\"+replacementScope,fixScopeNames=function(rule){var property,value;for(property in\"string\"==typeof rule.name&&(rule.name=rule.name.replace(/\\\\.json/g,replacementScope)),\"string\"==typeof rule.contentName&&(rule.contentName=rule.contentName.replace(/\\\\.json/g,replacementScope)),rule){\"object\"==typeof(value=rule[property])&&fixScopeNames(value)}},repository=grammar.repository){fixScopeNames(repository[key])}}', \"function x(grammar, replacementScope) {\\n  grammar.name = 'JSON with comments';\\n  grammar.scopeName = `source${replacementScope}`;\\n\\n  var fixScopeNames = function (rule) {\\n    if (typeof rule.name === 'string') {\\n      rule.name = rule.name.replace(/\\\\.json/g, replacementScope);\\n    }\\n\\n    if (typeof rule.contentName === 'string') {\\n      rule.contentName = rule.contentName.replace(/\\\\.json/g, replacementScope);\\n    }\\n\\n    for (var property in rule) {\\n      var value = rule[property];\\n\\n      if (typeof value === 'object') {\\n        fixScopeNames(value);\\n      }\\n    }\\n  };\\n\\n  var repository = grammar.repository;\\n\\n  for (var key in repository) {\\n    fixScopeNames(repository[key]);\\n  }\\n}\", \"function x(grammar, replacementScope) {\\n  grammar.name = 'JSON with comments';\\n  grammar.scopeName = `source${replacementScope}`;\\n\\n  var fixScopeNames = function (rule) {\\n    if (typeof rule.name === 'string') {\\n      rule.name = rule.name.replace(/\\\\.json/g, replacementScope);\\n    }\\n\\n    if (typeof rule.contentName === 'string') {\\n      rule.contentName = rule.contentName.replace(/\\\\.json/g, replacementScope);\\n    }\\n\\n    for (var property in rule) {\\n      var value = rule[property];\\n\\n      if (typeof value === 'object') {\\n        fixScopeNames(value);\\n      }\\n    }\\n  };\\n  var repository = grammar.repository;\\n\\n    fixScopeNames(repository[key]);\\n  }\\n}\", \"function x(bow, replacementScope) {\\n  bow.name = 'JSON with comments';\\n  bow.scopeName = `source${replacementScope}`;\\n\\n  var fixScopeNames = function (rule) {\\n    if (typeof rule.name === 'string') {\\n      rule.name = rule.name.replace(/\\\\.json/g, replacementScope);\\n    }\\n\\n    if (typeof rule.contentName === 'string') {\\n      rule.contentName = rule.contentName.replace(/\\\\.json/g, replacementScope);\\n    }\\n\\n    for (var property in rule) {\\n      var value = rule[property];\\n\\n      if (typeof value === 'object') {\\n        fixScopeNames(value);\\n      }\\n    }\\n  };\\n\\n  var repository = bow.repository;\\n\\n  for (var key in repository) {\\n    fixScopeNames(repository[key]);\\n  }\\n}\", \"function x(grammar,replacementScope){var fixScopeNames,repository,key;for(key in grammar.name='JSON with comments',grammar.scopeName='source'+replacementScope,fixScopeNames=function(rule){var property,value;for(property in'string'==typeof rule.name&&(rule.name=rule.name.replace(/\\\\.json/g,replacementScope)),'string'==typeof rule.contentName&&(rule.contentName=rule.contentName.replace(/\\\\.json/g,replacementScope)),rule)'object'==typeof(value=rule[property])&&fixScopeNames(value)},repository=grammar.repository)fixScopeNames(repository[key])}\", \"function x(grammar, replacementScope) {\\n  grammar.name = 'JSON with comments', grammar.scopeName = 'source' + replacementScope;\\n  var fixScopeNames = function(rule) {\\n    for (var property in 'string' == typeof rule.name && (rule.name = rule.name.replace(/\\\\.json/g, replacementScope)), \\n    'string' == typeof rule.contentName && (rule.contentName = rule.contentName.replace(/\\\\.json/g, replacementScope)), \\n    rule) {\\n      var value = rule[property];\\n      'object' == typeof value && fixScopeNames(value);\\n    }\\n  }, repository = grammar.repository;\\n    fixScopeNames(repository[key]);\\n  }\\n}\", \"function x(grammar, replacementScope) {\\n  var coatLabel;\\n  grammar.name = 'JSON with comments';\\n  grammar.scopeName = `source${replacementScope}`;\\n\\n  var fixScopeNames = function (rule) {\\n    if (typeof rule.name === 'string') {\\n      rule.name = rule.name.replace(/\\\\.json/g, replacementScope);\\n    }\\n\\n    if (typeof rule.contentName === 'string') {\\n      rule.contentName = rule.contentName.replace(/\\\\.json/g, replacementScope);\\n    }\\n\\n    for (var property in rule) {\\n      var value = rule[property];\\n\\n      if (typeof value === 'object') {\\n        fixScopeNames(value);\\n      }\\n    }\\n  };\\n\\n  var repository = grammar.repository;\\n\\n  for (var key in repository) {\\n    fixScopeNames(repository[key]);\\n  }\\n}\", 'function x(grammar, replacementScope) {\\n  var fixScopeNames, repository, key;\\n  for (key in grammar.name = \"JSON with comments\", grammar.scopeName = \"source\" + replacementScope, \\n  fixScopeNames = function(rule) {\\n    var property, value;\\n    for (property in \"string\" == typeof rule.name && (rule.name = rule.name.replace(/\\\\.json/g, replacementScope)), \\n    \"string\" == typeof rule.contentName && (rule.contentName = rule.contentName.replace(/\\\\.json/g, replacementScope)), \\n    rule) \"object\" == typeof (value = rule[property]) && fixScopeNames(value);\\n  }, repository = grammar.repository) fixScopeNames(repository[key]);\\n}', 'function x(grammar, replacementScope) {\\n  var fixScopeNames, repository, key;\\n  for (key in grammar.name = \\'JSON with comments\\', grammar.scopeName = \"source\" + replacementScope, \\n  fixScopeNames = function(rule) {\\n    var property, value;\\n    for (property in \\'string\\' == typeof rule.name && (rule.name = rule.name.replace(/\\\\.json/g, replacementScope)), \\n    \\'string\\' == typeof rule.contentName && (rule.contentName = rule.contentName.replace(/\\\\.json/g, replacementScope)), \\n    rule) \\'object\\' == typeof (value = rule[property]) && fixScopeNames(value);\\n  }, repository = grammar.repository) fixScopeNames(repository[key]);\\n}', \"function x(grammar, surrounded) {\\n  grammar.name = 'JSON with comments';\\n  grammar.scopeName = `source${surrounded}`;\\n\\n  var fixScopeNames = function (rule) {\\n    if (typeof rule.name === 'string') {\\n      rule.name = rule.name.replace(/\\\\.json/g, surrounded);\\n    }\\n\\n    if (typeof rule.contentName === 'string') {\\n      rule.contentName = rule.contentName.replace(/\\\\.json/g, surrounded);\\n    }\\n\\n    for (var property in rule) {\\n      var value = rule[property];\\n\\n      if (typeof value === 'object') {\\n        fixScopeNames(value);\\n      }\\n    }\\n  };\\n\\n  var repository = grammar.repository;\\n\\n  for (var key in repository) {\\n    fixScopeNames(repository[key]);\\n  }\\n}\", 'function x(grammar,replacementScope){grammar.name=\"JSON with comments\",grammar.scopeName=\"source\"+replacementScope;var fixScopeNames=function(rule){for(var property in\"string\"==typeof rule.name&&(rule.name=rule.name.replace(/\\\\.json/g,replacementScope)),\"string\"==typeof rule.contentName&&(rule.contentName=rule.contentName.replace(/\\\\.json/g,replacementScope)),rule){var value=rule[property];\"object\"==typeof value&&fixScopeNames(value)}},repository=grammar.repository;for(var key in repository)fixScopeNames(repository[key])}'}\n"
     ]
    }
   ],
   "source": [
    "print(data[0])"
   ]
  },
  {
   "cell_type": "code",
   "execution_count": 12,
   "metadata": {},
   "outputs": [],
   "source": [
    "data=list(map(list,data))"
   ]
  },
  {
   "cell_type": "code",
   "execution_count": 14,
   "metadata": {},
   "outputs": [
    {
     "data": {
      "text/plain": [
       "1843099"
      ]
     },
     "execution_count": 14,
     "metadata": {},
     "output_type": "execute_result"
    }
   ],
   "source": [
    "len(data)"
   ]
  },
  {
   "cell_type": "code",
   "execution_count": 15,
   "metadata": {},
   "outputs": [
    {
     "name": "stdout",
     "output_type": "stream",
     "text": [
      "15\n"
     ]
    }
   ],
   "source": [
    "c=data[0]\n",
    "type(c)\n",
    "print(len(c))"
   ]
  },
  {
   "cell_type": "code",
   "execution_count": 17,
   "metadata": {},
   "outputs": [
    {
     "name": "stdout",
     "output_type": "stream",
     "text": [
      "function x(grammar, replacementScope) {\n",
      "  grammar.name = \"JSON with comments\";\n",
      "  grammar.scopeName = `source${replacementScope}`;\n",
      "  var fixScopeNames = function(rule) {\n",
      "    if (typeof rule.name === \"string\") {\n",
      "      rule.name = rule.name.replace(/\\.json/g, replacementScope);\n",
      "    }\n",
      "    if (typeof rule.contentName === \"string\") {\n",
      "      rule.contentName = rule.contentName.replace(/\\.json/g, replacementScope);\n",
      "    }\n",
      "    for (var property in rule) {\n",
      "      var value = rule[property];\n",
      "      if (typeof value === \"object\") {\n",
      "        fixScopeNames(value);\n",
      "      }\n",
      "    }\n",
      "  };\n",
      "  var repository = grammar.repository;\n",
      "  for (var key in repository) {\n",
      "    fixScopeNames(repository[key]);\n",
      "  }\n",
      "}\n"
     ]
    }
   ],
   "source": [
    "print(c[0])"
   ]
  },
  {
   "cell_type": "code",
   "execution_count": 18,
   "metadata": {},
   "outputs": [
    {
     "name": "stdout",
     "output_type": "stream",
     "text": [
      "function x(grammar, flyFire) {\n",
      "    var fixScopeNames, repository, key;\n",
      "    for (key in grammar.name = \"JSON with comments\", grammar.scopeName = \"source\" + flyFire, \n",
      "    fixScopeNames = function(rule) {\n",
      "        var property, value;\n",
      "        for (property in \"string\" == typeof rule.name && (rule.name = rule.name.replace(/\\.json/g, flyFire)), \n",
      "        \"string\" == typeof rule.contentName && (rule.contentName = rule.contentName.replace(/\\.json/g, flyFire)), \n",
      "        rule) {\n",
      "            \"object\" == typeof (value = rule[property]) && fixScopeNames(value);\n",
      "        }\n",
      "    }, repository = grammar.repository) {\n",
      "        fixScopeNames(repository[key]);\n",
      "    }\n",
      "}\n"
     ]
    }
   ],
   "source": [
    "print(c[1])"
   ]
  },
  {
   "cell_type": "code",
   "execution_count": 19,
   "metadata": {},
   "outputs": [
    {
     "name": "stdout",
     "output_type": "stream",
     "text": [
      "['function x(grammar, replacementScope) {\\n  grammar.name = \"JSON with comments\";\\n  grammar.scopeName = `source${replacementScope}`;\\n  var fixScopeNames = function(rule) {\\n    if (typeof rule.name === \"string\") {\\n      rule.name = rule.name.replace(/\\\\.json/g, replacementScope);\\n    }\\n    if (typeof rule.contentName === \"string\") {\\n      rule.contentName = rule.contentName.replace(/\\\\.json/g, replacementScope);\\n    }\\n    for (var property in rule) {\\n      var value = rule[property];\\n      if (typeof value === \"object\") {\\n        fixScopeNames(value);\\n      }\\n    }\\n  };\\n  var repository = grammar.repository;\\n  for (var key in repository) {\\n    fixScopeNames(repository[key]);\\n  }\\n}', 'function x(grammar, flyFire) {\\n    var fixScopeNames, repository, key;\\n    for (key in grammar.name = \"JSON with comments\", grammar.scopeName = \"source\" + flyFire, \\n    fixScopeNames = function(rule) {\\n        var property, value;\\n        for (property in \"string\" == typeof rule.name && (rule.name = rule.name.replace(/\\\\.json/g, flyFire)), \\n        \"string\" == typeof rule.contentName && (rule.contentName = rule.contentName.replace(/\\\\.json/g, flyFire)), \\n        rule) {\\n            \"object\" == typeof (value = rule[property]) && fixScopeNames(value);\\n        }\\n    }, repository = grammar.repository) {\\n        fixScopeNames(repository[key]);\\n    }\\n}', \"function x(grammar, replacementScope) {\\n\\tgrammar.name = 'JSON with comments';\\n\\tgrammar.scopeName = `source${replacementScope}`;\\n\\n\\tvar fixScopeNames = function(rule) {\\n\\t\\tif (typeof rule.name === 'string') {\\n\\t\\t\\trule.name = rule.name.replace(/\\\\.json/g, replacementScope);\\n\\t\\t}\\n\\t\\tif (typeof rule.contentName === 'string') {\\n\\t\\t\\trule.contentName = rule.contentName.replace(/\\\\.json/g, replacementScope);\\n\\t\\t}\\n\\t\\tfor (var property in rule) {\\n\\t\\t\\tvar value = rule[property];\\n\\t\\t\\tif (typeof value === 'object') {\\n\\t\\t\\t\\tfixScopeNames(value);\\n\\t\\t\\t}\\n\\t\\t}\\n\\t};\\n\\n\\tvar repository = grammar.repository;\\n\\tfor (var key in repository) {\\n\\t\\tfixScopeNames(repository[key]);\\n\\t}\\n}\", \"function x(grammar, captured) {\\n  grammar.name = 'JSON with comments';\\n  grammar.scopeName = `source${captured}`;\\n\\n  var fixScopeNames = function (rule) {\\n    if (typeof rule.name === 'string') {\\n      rule.name = rule.name.replace(/\\\\.json/g, captured);\\n    }\\n\\n    if (typeof rule.contentName === 'string') {\\n      rule.contentName = rule.contentName.replace(/\\\\.json/g, captured);\\n    }\\n\\n    for (var property in rule) {\\n      var value = rule[property];\\n\\n      if (typeof value === 'object') {\\n        fixScopeNames(value);\\n      }\\n    }\\n  };\\n\\n  var repository = grammar.repository;\\n\\n  for (var key in repository) {\\n    fixScopeNames(repository[key]);\\n  }\\n}\", 'function x(grammar,replacementScope){var fixScopeNames,repository,key;for(key in grammar.name=\"JSON with comments\",grammar.scopeName=\"source\"+replacementScope,fixScopeNames=function(rule){var property,value;for(property in\"string\"==typeof rule.name&&(rule.name=rule.name.replace(/\\\\.json/g,replacementScope)),\"string\"==typeof rule.contentName&&(rule.contentName=rule.contentName.replace(/\\\\.json/g,replacementScope)),rule){\"object\"==typeof(value=rule[property])&&fixScopeNames(value)}},repository=grammar.repository){fixScopeNames(repository[key])}}', \"function x(grammar, replacementScope) {\\n  grammar.name = 'JSON with comments';\\n  grammar.scopeName = `source${replacementScope}`;\\n\\n  var fixScopeNames = function (rule) {\\n    if (typeof rule.name === 'string') {\\n      rule.name = rule.name.replace(/\\\\.json/g, replacementScope);\\n    }\\n\\n    if (typeof rule.contentName === 'string') {\\n      rule.contentName = rule.contentName.replace(/\\\\.json/g, replacementScope);\\n    }\\n\\n    for (var property in rule) {\\n      var value = rule[property];\\n\\n      if (typeof value === 'object') {\\n        fixScopeNames(value);\\n      }\\n    }\\n  };\\n\\n  var repository = grammar.repository;\\n\\n  for (var key in repository) {\\n    fixScopeNames(repository[key]);\\n  }\\n}\", \"function x(grammar, replacementScope) {\\n  grammar.name = 'JSON with comments';\\n  grammar.scopeName = `source${replacementScope}`;\\n\\n  var fixScopeNames = function (rule) {\\n    if (typeof rule.name === 'string') {\\n      rule.name = rule.name.replace(/\\\\.json/g, replacementScope);\\n    }\\n\\n    if (typeof rule.contentName === 'string') {\\n      rule.contentName = rule.contentName.replace(/\\\\.json/g, replacementScope);\\n    }\\n\\n    for (var property in rule) {\\n      var value = rule[property];\\n\\n      if (typeof value === 'object') {\\n        fixScopeNames(value);\\n      }\\n    }\\n  };\\n  var repository = grammar.repository;\\n\\n    fixScopeNames(repository[key]);\\n  }\\n}\", \"function x(bow, replacementScope) {\\n  bow.name = 'JSON with comments';\\n  bow.scopeName = `source${replacementScope}`;\\n\\n  var fixScopeNames = function (rule) {\\n    if (typeof rule.name === 'string') {\\n      rule.name = rule.name.replace(/\\\\.json/g, replacementScope);\\n    }\\n\\n    if (typeof rule.contentName === 'string') {\\n      rule.contentName = rule.contentName.replace(/\\\\.json/g, replacementScope);\\n    }\\n\\n    for (var property in rule) {\\n      var value = rule[property];\\n\\n      if (typeof value === 'object') {\\n        fixScopeNames(value);\\n      }\\n    }\\n  };\\n\\n  var repository = bow.repository;\\n\\n  for (var key in repository) {\\n    fixScopeNames(repository[key]);\\n  }\\n}\", \"function x(grammar,replacementScope){var fixScopeNames,repository,key;for(key in grammar.name='JSON with comments',grammar.scopeName='source'+replacementScope,fixScopeNames=function(rule){var property,value;for(property in'string'==typeof rule.name&&(rule.name=rule.name.replace(/\\\\.json/g,replacementScope)),'string'==typeof rule.contentName&&(rule.contentName=rule.contentName.replace(/\\\\.json/g,replacementScope)),rule)'object'==typeof(value=rule[property])&&fixScopeNames(value)},repository=grammar.repository)fixScopeNames(repository[key])}\", \"function x(grammar, replacementScope) {\\n  grammar.name = 'JSON with comments', grammar.scopeName = 'source' + replacementScope;\\n  var fixScopeNames = function(rule) {\\n    for (var property in 'string' == typeof rule.name && (rule.name = rule.name.replace(/\\\\.json/g, replacementScope)), \\n    'string' == typeof rule.contentName && (rule.contentName = rule.contentName.replace(/\\\\.json/g, replacementScope)), \\n    rule) {\\n      var value = rule[property];\\n      'object' == typeof value && fixScopeNames(value);\\n    }\\n  }, repository = grammar.repository;\\n    fixScopeNames(repository[key]);\\n  }\\n}\", \"function x(grammar, replacementScope) {\\n  var coatLabel;\\n  grammar.name = 'JSON with comments';\\n  grammar.scopeName = `source${replacementScope}`;\\n\\n  var fixScopeNames = function (rule) {\\n    if (typeof rule.name === 'string') {\\n      rule.name = rule.name.replace(/\\\\.json/g, replacementScope);\\n    }\\n\\n    if (typeof rule.contentName === 'string') {\\n      rule.contentName = rule.contentName.replace(/\\\\.json/g, replacementScope);\\n    }\\n\\n    for (var property in rule) {\\n      var value = rule[property];\\n\\n      if (typeof value === 'object') {\\n        fixScopeNames(value);\\n      }\\n    }\\n  };\\n\\n  var repository = grammar.repository;\\n\\n  for (var key in repository) {\\n    fixScopeNames(repository[key]);\\n  }\\n}\", 'function x(grammar, replacementScope) {\\n  var fixScopeNames, repository, key;\\n  for (key in grammar.name = \"JSON with comments\", grammar.scopeName = \"source\" + replacementScope, \\n  fixScopeNames = function(rule) {\\n    var property, value;\\n    for (property in \"string\" == typeof rule.name && (rule.name = rule.name.replace(/\\\\.json/g, replacementScope)), \\n    \"string\" == typeof rule.contentName && (rule.contentName = rule.contentName.replace(/\\\\.json/g, replacementScope)), \\n    rule) \"object\" == typeof (value = rule[property]) && fixScopeNames(value);\\n  }, repository = grammar.repository) fixScopeNames(repository[key]);\\n}', 'function x(grammar, replacementScope) {\\n  var fixScopeNames, repository, key;\\n  for (key in grammar.name = \\'JSON with comments\\', grammar.scopeName = \"source\" + replacementScope, \\n  fixScopeNames = function(rule) {\\n    var property, value;\\n    for (property in \\'string\\' == typeof rule.name && (rule.name = rule.name.replace(/\\\\.json/g, replacementScope)), \\n    \\'string\\' == typeof rule.contentName && (rule.contentName = rule.contentName.replace(/\\\\.json/g, replacementScope)), \\n    rule) \\'object\\' == typeof (value = rule[property]) && fixScopeNames(value);\\n  }, repository = grammar.repository) fixScopeNames(repository[key]);\\n}', \"function x(grammar, surrounded) {\\n  grammar.name = 'JSON with comments';\\n  grammar.scopeName = `source${surrounded}`;\\n\\n  var fixScopeNames = function (rule) {\\n    if (typeof rule.name === 'string') {\\n      rule.name = rule.name.replace(/\\\\.json/g, surrounded);\\n    }\\n\\n    if (typeof rule.contentName === 'string') {\\n      rule.contentName = rule.contentName.replace(/\\\\.json/g, surrounded);\\n    }\\n\\n    for (var property in rule) {\\n      var value = rule[property];\\n\\n      if (typeof value === 'object') {\\n        fixScopeNames(value);\\n      }\\n    }\\n  };\\n\\n  var repository = grammar.repository;\\n\\n  for (var key in repository) {\\n    fixScopeNames(repository[key]);\\n  }\\n}\", 'function x(grammar,replacementScope){grammar.name=\"JSON with comments\",grammar.scopeName=\"source\"+replacementScope;var fixScopeNames=function(rule){for(var property in\"string\"==typeof rule.name&&(rule.name=rule.name.replace(/\\\\.json/g,replacementScope)),\"string\"==typeof rule.contentName&&(rule.contentName=rule.contentName.replace(/\\\\.json/g,replacementScope)),rule){var value=rule[property];\"object\"==typeof value&&fixScopeNames(value)}},repository=grammar.repository;for(var key in repository)fixScopeNames(repository[key])}']\n"
     ]
    }
   ],
   "source": [
    "print(c)"
   ]
  },
  {
   "cell_type": "code",
   "execution_count": null,
   "metadata": {},
   "outputs": [],
   "source": []
  }
 ],
 "metadata": {
  "kernelspec": {
   "display_name": "Python 3",
   "language": "python",
   "name": "python3"
  },
  "language_info": {
   "codemirror_mode": {
    "name": "ipython",
    "version": 3
   },
   "file_extension": ".py",
   "mimetype": "text/x-python",
   "name": "python",
   "nbconvert_exporter": "python",
   "pygments_lexer": "ipython3",
   "version": "3.7.6"
  }
 },
 "nbformat": 4,
 "nbformat_minor": 4
}
